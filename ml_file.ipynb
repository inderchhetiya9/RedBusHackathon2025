{
 "cells": [
  {
   "cell_type": "code",
   "execution_count": 1,
   "id": "1211b8be",
   "metadata": {},
   "outputs": [],
   "source": [
    "import pandas as pd\n",
    "\n",
    "# Load CSVs\n",
    "train = pd.read_csv(\"train/train.csv\", parse_dates=[\"doj\"])\n",
    "test = pd.read_csv(\"test.csv\", parse_dates=[\"doj\"])\n",
    "transactions = pd.read_csv(\"train/transactions.csv\", parse_dates=[\"doj\", \"doi\"])\n",
    "\n",
    "# Filter transactions for exactly 15 days before journey\n",
    "transactions_15 = transactions[transactions[\"dbd\"] == 15].copy()\n",
    "\n",
    "# Aggregate features for each (doj, srcid, destid)\n",
    "agg_15 = transactions_15.groupby([\"doj\", \"srcid\", \"destid\"]).agg({\n",
    "    \"cumsum_seatcount\": \"sum\",\n",
    "    \"cumsum_searchcount\": \"sum\",\n",
    "    \"srcid_region\": \"first\",\n",
    "    \"destid_region\": \"first\",\n",
    "    \"srcid_tier\": \"first\",\n",
    "    \"destid_tier\": \"first\"\n",
    "}).reset_index()\n",
    "\n",
    "# Rename columns for clarity\n",
    "agg_15.rename(columns={\n",
    "    \"cumsum_seatcount\": \"cumsum_seatcount_15\",\n",
    "    \"cumsum_searchcount\": \"cumsum_searchcount_15\"\n",
    "}, inplace=True)\n",
    "\n",
    "# Merge with train and test\n",
    "train_enriched = pd.merge(train, agg_15, on=[\"doj\", \"srcid\", \"destid\"], how=\"left\")\n",
    "test_enriched = pd.merge(test, agg_15, on=[\"doj\", \"srcid\", \"destid\"], how=\"left\")\n"
   ]
  },
  {
   "cell_type": "code",
   "execution_count": 2,
   "id": "637d707e",
   "metadata": {},
   "outputs": [
    {
     "name": "stdout",
     "output_type": "stream",
     "text": [
      "Fitting 3 folds for each of 12 candidates, totalling 36 fits\n",
      "[LightGBM] [Info] Auto-choosing row-wise multi-threading, the overhead of testing was 0.000568 seconds.\n",
      "You can set `force_row_wise=true` to remove the overhead.\n",
      "And if memory is not enough, you can set `force_col_wise=true`.\n",
      "[LightGBM] [Info] Auto-choosing col-wise multi-threading, the overhead of testing was 0.002069 seconds.\n",
      "You can set `force_col_wise=true` to remove the overhead.\n",
      "[LightGBM] [Info] Total Bins 658\n",
      "[LightGBM] [Info] Total Bins 658\n",
      "[LightGBM] [Info] Number of data points in the train set: 35840, number of used features: 32\n",
      "[LightGBM] [Info] Number of data points in the train set: 35840, number of used features: 32\n",
      "[LightGBM] [Info] Start training from score 2005.191685\n",
      "[LightGBM] [Info] Start training from score 2005.237807\n",
      "[LightGBM] [Info] Auto-choosing col-wise multi-threading, the overhead of testing was 0.002664 seconds.\n",
      "You can set `force_col_wise=true` to remove the overhead.\n",
      "[LightGBM] [Info] Total Bins 658\n",
      "[LightGBM] [Info] Number of data points in the train set: 35840, number of used features: 32\n",
      "[LightGBM] [Info] Auto-choosing col-wise multi-threading, the overhead of testing was 0.003838 seconds.\n",
      "You can set `force_col_wise=true` to remove the overhead.\n",
      "[LightGBM] [Info] Total Bins 658\n",
      "[LightGBM] [Info] Number of data points in the train set: 35840, number of used features: 32\n",
      "[LightGBM] [Info] Start training from score 2005.191685\n",
      "[LightGBM] [Info] Start training from score 2005.237807\n",
      "[LightGBM] [Info] Auto-choosing col-wise multi-threading, the overhead of testing was 0.002851 seconds.\n",
      "You can set `force_col_wise=true` to remove the overhead.\n",
      "[LightGBM] [Info] Total Bins 658\n",
      "[LightGBM] [Info] Number of data points in the train set: 35840, number of used features: 32\n",
      "[LightGBM] [Info] Start training from score 2000.468108\n",
      "[LightGBM] [Info] Auto-choosing col-wise multi-threading, the overhead of testing was 0.000917 seconds.\n",
      "You can set `force_col_wise=true` to remove the overhead.\n",
      "[LightGBM] [Info] Total Bins 658\n",
      "[LightGBM] [Info] Number of data points in the train set: 35840, number of used features: 32\n",
      "[LightGBM] [Info] Start training from score 2005.191685\n",
      "[LightGBM] [Info] Auto-choosing col-wise multi-threading, the overhead of testing was 0.003216 seconds.\n",
      "You can set `force_col_wise=true` to remove the overhead.\n",
      "[LightGBM] [Info] Total Bins 658\n",
      "[LightGBM] [Info] Number of data points in the train set: 35840, number of used features: 32\n",
      "[LightGBM] [Info] Start training from score 2000.468108\n",
      "[LightGBM] [Info] Auto-choosing col-wise multi-threading, the overhead of testing was 0.003862 seconds.\n",
      "You can set `force_col_wise=true` to remove the overhead.\n",
      "[LightGBM] [Info] Total Bins 658\n",
      "[LightGBM] [Info] Number of data points in the train set: 35840, number of used features: 32\n",
      "[LightGBM] [Info] Start training from score 2000.468108\n"
     ]
    },
    {
     "name": "stderr",
     "output_type": "stream",
     "text": [
      "/Users/inderchhetiya/Downloads/hackathon/RedBusHackathon2025/.venv/lib/python3.12/site-packages/sklearn/utils/validation.py:2749: UserWarning: X does not have valid feature names, but LGBMRegressor was fitted with feature names\n",
      "  warnings.warn(\n",
      "/Users/inderchhetiya/Downloads/hackathon/RedBusHackathon2025/.venv/lib/python3.12/site-packages/sklearn/utils/validation.py:2749: UserWarning: X does not have valid feature names, but LGBMRegressor was fitted with feature names\n",
      "  warnings.warn(\n",
      "/Users/inderchhetiya/Downloads/hackathon/RedBusHackathon2025/.venv/lib/python3.12/site-packages/sklearn/utils/validation.py:2749: UserWarning: X does not have valid feature names, but LGBMRegressor was fitted with feature names\n",
      "  warnings.warn(\n",
      "/Users/inderchhetiya/Downloads/hackathon/RedBusHackathon2025/.venv/lib/python3.12/site-packages/sklearn/utils/validation.py:2749: UserWarning: X does not have valid feature names, but LGBMRegressor was fitted with feature names\n",
      "  warnings.warn(\n",
      "/Users/inderchhetiya/Downloads/hackathon/RedBusHackathon2025/.venv/lib/python3.12/site-packages/sklearn/utils/validation.py:2749: UserWarning: X does not have valid feature names, but LGBMRegressor was fitted with feature names\n",
      "  warnings.warn(\n"
     ]
    },
    {
     "name": "stdout",
     "output_type": "stream",
     "text": [
      "[LightGBM] [Info] Auto-choosing row-wise multi-threading, the overhead of testing was 0.000625 seconds.\n",
      "You can set `force_row_wise=true` to remove the overhead.\n",
      "And if memory is not enough, you can set `force_col_wise=true`.\n",
      "[LightGBM] [Info] Total Bins 658\n",
      "[LightGBM] [Info] Number of data points in the train set: 35840, number of used features: 32\n",
      "[LightGBM] [Info] Start training from score 2005.237807\n",
      "[LightGBM] [Info] Auto-choosing row-wise multi-threading, the overhead of testing was 0.000351 seconds.\n",
      "You can set `force_row_wise=true` to remove the overhead.\n",
      "And if memory is not enough, you can set `force_col_wise=true`.\n",
      "[LightGBM] [Info] Total Bins 658\n",
      "[LightGBM] [Info] Number of data points in the train set: 35840, number of used features: 32\n",
      "[LightGBM] [Info] Auto-choosing row-wise multi-threading, the overhead of testing was 0.000344 seconds.\n",
      "You can set `force_row_wise=true` to remove the overhead.\n",
      "And if memory is not enough, you can set `force_col_wise=true`.\n",
      "[LightGBM] [Info] Total Bins 658\n",
      "[LightGBM] [Info] Start training from score 2005.237807\n",
      "[LightGBM] [Info] Number of data points in the train set: 35840, number of used features: 32\n",
      "[LightGBM] [Info] Start training from score 2000.468108\n",
      "[LightGBM] [Info] Auto-choosing col-wise multi-threading, the overhead of testing was 0.002506 seconds.\n",
      "You can set `force_col_wise=true` to remove the overhead.\n",
      "[LightGBM] [Info] Total Bins 658\n",
      "[LightGBM] [Info] Number of data points in the train set: 35840, number of used features: 32\n",
      "[LightGBM] [Info] Start training from score 2005.191685\n",
      "[LightGBM] [Info] Auto-choosing row-wise multi-threading, the overhead of testing was 0.000358 seconds.\n",
      "You can set `force_row_wise=true` to remove the overhead.\n",
      "And if memory is not enough, you can set `force_col_wise=true`.\n",
      "[LightGBM] [Info] Total Bins 658\n",
      "[LightGBM] [Info] Number of data points in the train set: 35840, number of used features: 32\n",
      "[LightGBM] [Info] Start training from score 2005.191685\n",
      "[LightGBM] [Warning] No further splits with positive gain, best gain: -inf\n",
      "[LightGBM] [Warning] No further splits with positive gain, best gain: -inf\n",
      "[LightGBM] [Warning] No further splits with positive gain, best gain: -inf\n"
     ]
    },
    {
     "name": "stderr",
     "output_type": "stream",
     "text": [
      "/Users/inderchhetiya/Downloads/hackathon/RedBusHackathon2025/.venv/lib/python3.12/site-packages/sklearn/utils/validation.py:2749: UserWarning: X does not have valid feature names, but LGBMRegressor was fitted with feature names\n",
      "  warnings.warn(\n",
      "/Users/inderchhetiya/Downloads/hackathon/RedBusHackathon2025/.venv/lib/python3.12/site-packages/sklearn/utils/validation.py:2749: UserWarning: X does not have valid feature names, but LGBMRegressor was fitted with feature names\n",
      "  warnings.warn(\n",
      "/Users/inderchhetiya/Downloads/hackathon/RedBusHackathon2025/.venv/lib/python3.12/site-packages/sklearn/utils/validation.py:2749: UserWarning: X does not have valid feature names, but LGBMRegressor was fitted with feature names\n",
      "  warnings.warn(\n"
     ]
    },
    {
     "name": "stdout",
     "output_type": "stream",
     "text": [
      "[LightGBM] [Warning] No further splits with positive gain, best gain: -inf\n",
      "[LightGBM] [Info] Auto-choosing col-wise multi-threading, the overhead of testing was 0.001301 seconds.\n",
      "You can set `force_col_wise=true` to remove the overhead.\n",
      "[LightGBM] [Info] Total Bins 658\n",
      "[LightGBM] [Info] Number of data points in the train set: 35840, number of used features: 32\n",
      "[LightGBM] [Info] Start training from score 2000.468108\n",
      "[LightGBM] [Info] Auto-choosing col-wise multi-threading, the overhead of testing was 0.000818 seconds.\n",
      "You can set `force_col_wise=true` to remove the overhead.\n",
      "[LightGBM] [Info] Total Bins 658\n",
      "[LightGBM] [Info] Number of data points in the train set: 35840, number of used features: 32\n",
      "[LightGBM] [Info] Start training from score 2005.237807\n",
      "[LightGBM] [Info] Auto-choosing row-wise multi-threading, the overhead of testing was 0.000284 seconds.\n",
      "You can set `force_row_wise=true` to remove the overhead.\n",
      "And if memory is not enough, you can set `force_col_wise=true`.\n",
      "[LightGBM] [Info] Total Bins 658\n",
      "[LightGBM] [Info] Number of data points in the train set: 35840, number of used features: 32\n",
      "[LightGBM] [Info] Start training from score 2005.191685\n"
     ]
    },
    {
     "name": "stderr",
     "output_type": "stream",
     "text": [
      "/Users/inderchhetiya/Downloads/hackathon/RedBusHackathon2025/.venv/lib/python3.12/site-packages/sklearn/utils/validation.py:2749: UserWarning: X does not have valid feature names, but LGBMRegressor was fitted with feature names\n",
      "  warnings.warn(\n"
     ]
    },
    {
     "name": "stdout",
     "output_type": "stream",
     "text": [
      "[LightGBM] [Info] Auto-choosing col-wise multi-threading, the overhead of testing was 0.002487 seconds.\n",
      "You can set `force_col_wise=true` to remove the overhead.\n",
      "[LightGBM] [Info] Total Bins 658\n",
      "[LightGBM] [Info] Number of data points in the train set: 35840, number of used features: 32\n",
      "[LightGBM] [Info] Start training from score 2000.468108\n"
     ]
    },
    {
     "name": "stderr",
     "output_type": "stream",
     "text": [
      "/Users/inderchhetiya/Downloads/hackathon/RedBusHackathon2025/.venv/lib/python3.12/site-packages/sklearn/utils/validation.py:2749: UserWarning: X does not have valid feature names, but LGBMRegressor was fitted with feature names\n",
      "  warnings.warn(\n"
     ]
    },
    {
     "name": "stdout",
     "output_type": "stream",
     "text": [
      "[LightGBM] [Info] Auto-choosing row-wise multi-threading, the overhead of testing was 0.000278 seconds.\n",
      "You can set `force_row_wise=true` to remove the overhead.\n",
      "And if memory is not enough, you can set `force_col_wise=true`.\n",
      "[LightGBM] [Info] Total Bins 658\n",
      "[LightGBM] [Info] Number of data points in the train set: 35840, number of used features: 32\n",
      "[LightGBM] [Info] Start training from score 2005.237807\n"
     ]
    },
    {
     "name": "stderr",
     "output_type": "stream",
     "text": [
      "/Users/inderchhetiya/Downloads/hackathon/RedBusHackathon2025/.venv/lib/python3.12/site-packages/sklearn/utils/validation.py:2749: UserWarning: X does not have valid feature names, but LGBMRegressor was fitted with feature names\n",
      "  warnings.warn(\n",
      "/Users/inderchhetiya/Downloads/hackathon/RedBusHackathon2025/.venv/lib/python3.12/site-packages/sklearn/utils/validation.py:2749: UserWarning: X does not have valid feature names, but LGBMRegressor was fitted with feature names\n",
      "  warnings.warn(\n"
     ]
    },
    {
     "name": "stdout",
     "output_type": "stream",
     "text": [
      "[LightGBM] [Info] Auto-choosing col-wise multi-threading, the overhead of testing was 0.000983 seconds.\n",
      "You can set `force_col_wise=true` to remove the overhead.\n",
      "[LightGBM] [Info] Total Bins 658\n",
      "[LightGBM] [Info] Number of data points in the train set: 35840, number of used features: 32\n",
      "[LightGBM] [Info] Start training from score 2005.191685\n",
      "[LightGBM] [Info] Auto-choosing row-wise multi-threading, the overhead of testing was 0.000716 seconds.\n",
      "You can set `force_row_wise=true` to remove the overhead.\n",
      "And if memory is not enough, you can set `force_col_wise=true`.\n",
      "[LightGBM] [Info] Total Bins 658\n",
      "[LightGBM] [Info] Number of data points in the train set: 35840, number of used features: 32\n",
      "[LightGBM] [Info] Start training from score 2000.468108\n"
     ]
    },
    {
     "name": "stderr",
     "output_type": "stream",
     "text": [
      "/Users/inderchhetiya/Downloads/hackathon/RedBusHackathon2025/.venv/lib/python3.12/site-packages/sklearn/utils/validation.py:2749: UserWarning: X does not have valid feature names, but LGBMRegressor was fitted with feature names\n",
      "  warnings.warn(\n",
      "/Users/inderchhetiya/Downloads/hackathon/RedBusHackathon2025/.venv/lib/python3.12/site-packages/sklearn/utils/validation.py:2749: UserWarning: X does not have valid feature names, but LGBMRegressor was fitted with feature names\n",
      "  warnings.warn(\n"
     ]
    },
    {
     "name": "stdout",
     "output_type": "stream",
     "text": [
      "[LightGBM] [Info] Auto-choosing col-wise multi-threading, the overhead of testing was 0.004167 seconds.\n",
      "You can set `force_col_wise=true` to remove the overhead.\n",
      "[LightGBM] [Info] Total Bins 658\n",
      "[LightGBM] [Info] Number of data points in the train set: 35840, number of used features: 32\n",
      "[LightGBM] [Info] Start training from score 2005.237807\n",
      "[LightGBM] [Info] Auto-choosing row-wise multi-threading, the overhead of testing was 0.000341 seconds.\n",
      "You can set `force_row_wise=true` to remove the overhead.\n",
      "And if memory is not enough, you can set `force_col_wise=true`.\n",
      "[LightGBM] [Info] Total Bins 658\n",
      "[LightGBM] [Info] Number of data points in the train set: 35840, number of used features: 32\n",
      "[LightGBM] [Info] Start training from score 2005.191685\n"
     ]
    },
    {
     "name": "stderr",
     "output_type": "stream",
     "text": [
      "/Users/inderchhetiya/Downloads/hackathon/RedBusHackathon2025/.venv/lib/python3.12/site-packages/sklearn/utils/validation.py:2749: UserWarning: X does not have valid feature names, but LGBMRegressor was fitted with feature names\n",
      "  warnings.warn(\n"
     ]
    },
    {
     "name": "stdout",
     "output_type": "stream",
     "text": [
      "[LightGBM] [Info] Auto-choosing row-wise multi-threading, the overhead of testing was 0.008204 seconds.\n",
      "You can set `force_row_wise=true` to remove the overhead.\n",
      "And if memory is not enough, you can set `force_col_wise=true`.\n",
      "[LightGBM] [Info] Total Bins 658\n",
      "[LightGBM] [Info] Number of data points in the train set: 35840, number of used features: 32\n",
      "[LightGBM] [Info] Start training from score 2000.468108\n",
      "[LightGBM] [Warning] No further splits with positive gain, best gain: -inf\n",
      "[LightGBM] [Warning] No further splits with positive gain, best gain: -inf\n"
     ]
    },
    {
     "name": "stderr",
     "output_type": "stream",
     "text": [
      "/Users/inderchhetiya/Downloads/hackathon/RedBusHackathon2025/.venv/lib/python3.12/site-packages/sklearn/utils/validation.py:2749: UserWarning: X does not have valid feature names, but LGBMRegressor was fitted with feature names\n",
      "  warnings.warn(\n",
      "/Users/inderchhetiya/Downloads/hackathon/RedBusHackathon2025/.venv/lib/python3.12/site-packages/sklearn/utils/validation.py:2749: UserWarning: X does not have valid feature names, but LGBMRegressor was fitted with feature names\n",
      "  warnings.warn(\n",
      "/Users/inderchhetiya/Downloads/hackathon/RedBusHackathon2025/.venv/lib/python3.12/site-packages/sklearn/utils/validation.py:2749: UserWarning: X does not have valid feature names, but LGBMRegressor was fitted with feature names\n",
      "  warnings.warn(\n"
     ]
    },
    {
     "name": "stdout",
     "output_type": "stream",
     "text": [
      "[LightGBM] [Warning] No further splits with positive gain, best gain: -inf\n",
      "[LightGBM] [Info] Auto-choosing col-wise multi-threading, the overhead of testing was 0.000808 seconds.\n",
      "You can set `force_col_wise=true` to remove the overhead.\n",
      "[LightGBM] [Info] Total Bins 658\n",
      "[LightGBM] [Info] Number of data points in the train set: 35840, number of used features: 32\n",
      "[LightGBM] [Info] Start training from score 2005.237807\n",
      "[LightGBM] [Warning] No further splits with positive gain, best gain: -inf\n",
      "[LightGBM] [Info] Auto-choosing col-wise multi-threading, the overhead of testing was 0.000833 seconds.\n",
      "You can set `force_col_wise=true` to remove the overhead.\n",
      "[LightGBM] [Info] Total Bins 658\n",
      "[LightGBM] [Info] Number of data points in the train set: 35840, number of used features: 32\n",
      "[LightGBM] [Info] Start training from score 2005.191685\n",
      "[LightGBM] [Info] Auto-choosing row-wise multi-threading, the overhead of testing was 0.000364 seconds.\n",
      "You can set `force_row_wise=true` to remove the overhead.\n",
      "And if memory is not enough, you can set `force_col_wise=true`.\n",
      "[LightGBM] [Info] Total Bins 658\n",
      "[LightGBM] [Info] Number of data points in the train set: 35840, number of used features: 32\n",
      "[LightGBM] [Info] Start training from score 2000.468108\n"
     ]
    },
    {
     "name": "stderr",
     "output_type": "stream",
     "text": [
      "/Users/inderchhetiya/Downloads/hackathon/RedBusHackathon2025/.venv/lib/python3.12/site-packages/sklearn/utils/validation.py:2749: UserWarning: X does not have valid feature names, but LGBMRegressor was fitted with feature names\n",
      "  warnings.warn(\n",
      "/Users/inderchhetiya/Downloads/hackathon/RedBusHackathon2025/.venv/lib/python3.12/site-packages/sklearn/utils/validation.py:2749: UserWarning: X does not have valid feature names, but LGBMRegressor was fitted with feature names\n",
      "  warnings.warn(\n"
     ]
    },
    {
     "name": "stdout",
     "output_type": "stream",
     "text": [
      "[LightGBM] [Info] Auto-choosing col-wise multi-threading, the overhead of testing was 0.002138 seconds.\n",
      "You can set `force_col_wise=true` to remove the overhead.\n",
      "[LightGBM] [Info] Total Bins 658\n",
      "[LightGBM] [Info] Number of data points in the train set: 35840, number of used features: 32\n",
      "[LightGBM] [Info] Start training from score 2005.237807\n",
      "[LightGBM] [Warning] No further splits with positive gain, best gain: -inf\n",
      "[LightGBM] [Warning] No further splits with positive gain, best gain: -inf\n",
      "[LightGBM] [Info] Auto-choosing col-wise multi-threading, the overhead of testing was 0.003540 seconds.\n",
      "You can set `force_col_wise=true` to remove the overhead.\n",
      "[LightGBM] [Info] Total Bins 658\n",
      "[LightGBM] [Info] Number of data points in the train set: 35840, number of used features: 32\n",
      "[LightGBM] [Info] Start training from score 2005.191685\n",
      "[LightGBM] [Warning] No further splits with positive gain, best gain: -inf\n"
     ]
    },
    {
     "name": "stderr",
     "output_type": "stream",
     "text": [
      "/Users/inderchhetiya/Downloads/hackathon/RedBusHackathon2025/.venv/lib/python3.12/site-packages/sklearn/utils/validation.py:2749: UserWarning: X does not have valid feature names, but LGBMRegressor was fitted with feature names\n",
      "  warnings.warn(\n"
     ]
    },
    {
     "name": "stdout",
     "output_type": "stream",
     "text": [
      "[LightGBM] [Info] Auto-choosing row-wise multi-threading, the overhead of testing was 0.000346 seconds.\n",
      "You can set `force_row_wise=true` to remove the overhead.\n",
      "And if memory is not enough, you can set `force_col_wise=true`.\n",
      "[LightGBM] [Info] Total Bins 658\n",
      "[LightGBM] [Info] Number of data points in the train set: 35840, number of used features: 32\n",
      "[LightGBM] [Info] Start training from score 2000.468108\n",
      "[LightGBM] [Warning] No further splits with positive gain, best gain: -inf\n",
      "[LightGBM] [Warning] No further splits with positive gain, best gain: -inf\n",
      "[LightGBM] [Warning] No further splits with positive gain, best gain: -inf\n",
      "[LightGBM] [Info] Auto-choosing row-wise multi-threading, the overhead of testing was 0.000247 seconds.\n",
      "You can set `force_row_wise=true` to remove the overhead.\n",
      "And if memory is not enough, you can set `force_col_wise=true`.\n",
      "[LightGBM] [Info] Total Bins 658\n",
      "[LightGBM] [Info] Number of data points in the train set: 35840, number of used features: 32\n",
      "[LightGBM] [Info] Start training from score 2005.237807\n"
     ]
    },
    {
     "name": "stderr",
     "output_type": "stream",
     "text": [
      "/Users/inderchhetiya/Downloads/hackathon/RedBusHackathon2025/.venv/lib/python3.12/site-packages/sklearn/utils/validation.py:2749: UserWarning: X does not have valid feature names, but LGBMRegressor was fitted with feature names\n",
      "  warnings.warn(\n",
      "/Users/inderchhetiya/Downloads/hackathon/RedBusHackathon2025/.venv/lib/python3.12/site-packages/sklearn/utils/validation.py:2749: UserWarning: X does not have valid feature names, but LGBMRegressor was fitted with feature names\n",
      "  warnings.warn(\n",
      "/Users/inderchhetiya/Downloads/hackathon/RedBusHackathon2025/.venv/lib/python3.12/site-packages/sklearn/utils/validation.py:2749: UserWarning: X does not have valid feature names, but LGBMRegressor was fitted with feature names\n",
      "  warnings.warn(\n"
     ]
    },
    {
     "name": "stdout",
     "output_type": "stream",
     "text": [
      "[LightGBM] [Info] Auto-choosing col-wise multi-threading, the overhead of testing was 0.002337 seconds.\n",
      "You can set `force_col_wise=true` to remove the overhead.\n",
      "[LightGBM] [Info] Total Bins 658\n",
      "[LightGBM] [Info] Number of data points in the train set: 35840, number of used features: 32\n",
      "[LightGBM] [Info] Start training from score 2005.191685\n",
      "[LightGBM] [Info] Auto-choosing row-wise multi-threading, the overhead of testing was 0.000476 seconds.\n",
      "You can set `force_row_wise=true` to remove the overhead.\n",
      "And if memory is not enough, you can set `force_col_wise=true`.\n",
      "[LightGBM] [Info] Total Bins 658\n",
      "[LightGBM] [Info] Number of data points in the train set: 35840, number of used features: 32\n",
      "[LightGBM] [Info] Start training from score 2000.468108\n"
     ]
    },
    {
     "name": "stderr",
     "output_type": "stream",
     "text": [
      "/Users/inderchhetiya/Downloads/hackathon/RedBusHackathon2025/.venv/lib/python3.12/site-packages/sklearn/utils/validation.py:2749: UserWarning: X does not have valid feature names, but LGBMRegressor was fitted with feature names\n",
      "  warnings.warn(\n",
      "/Users/inderchhetiya/Downloads/hackathon/RedBusHackathon2025/.venv/lib/python3.12/site-packages/sklearn/utils/validation.py:2749: UserWarning: X does not have valid feature names, but LGBMRegressor was fitted with feature names\n",
      "  warnings.warn(\n"
     ]
    },
    {
     "name": "stdout",
     "output_type": "stream",
     "text": [
      "[LightGBM] [Info] Auto-choosing row-wise multi-threading, the overhead of testing was 0.003729 seconds.\n",
      "You can set `force_row_wise=true` to remove the overhead.\n",
      "And if memory is not enough, you can set `force_col_wise=true`.\n",
      "[LightGBM] [Info] Total Bins 658\n",
      "[LightGBM] [Info] Number of data points in the train set: 35840, number of used features: 32\n",
      "[LightGBM] [Info] Start training from score 2005.237807\n",
      "[LightGBM] [Info] Auto-choosing col-wise multi-threading, the overhead of testing was 0.010491 seconds.\n",
      "You can set `force_col_wise=true` to remove the overhead.\n",
      "[LightGBM] [Info] Total Bins 658\n",
      "[LightGBM] [Info] Number of data points in the train set: 35840, number of used features: 32\n",
      "[LightGBM] [Info] Start training from score 2005.191685\n"
     ]
    },
    {
     "name": "stderr",
     "output_type": "stream",
     "text": [
      "/Users/inderchhetiya/Downloads/hackathon/RedBusHackathon2025/.venv/lib/python3.12/site-packages/sklearn/utils/validation.py:2749: UserWarning: X does not have valid feature names, but LGBMRegressor was fitted with feature names\n",
      "  warnings.warn(\n"
     ]
    },
    {
     "name": "stdout",
     "output_type": "stream",
     "text": [
      "[LightGBM] [Info] Auto-choosing row-wise multi-threading, the overhead of testing was 0.000277 seconds.\n",
      "You can set `force_row_wise=true` to remove the overhead.\n",
      "And if memory is not enough, you can set `force_col_wise=true`.\n",
      "[LightGBM] [Info] Total Bins 658\n",
      "[LightGBM] [Info] Number of data points in the train set: 35840, number of used features: 32\n",
      "[LightGBM] [Info] Start training from score 2000.468108\n"
     ]
    },
    {
     "name": "stderr",
     "output_type": "stream",
     "text": [
      "/Users/inderchhetiya/Downloads/hackathon/RedBusHackathon2025/.venv/lib/python3.12/site-packages/sklearn/utils/validation.py:2749: UserWarning: X does not have valid feature names, but LGBMRegressor was fitted with feature names\n",
      "  warnings.warn(\n",
      "/Users/inderchhetiya/Downloads/hackathon/RedBusHackathon2025/.venv/lib/python3.12/site-packages/sklearn/utils/validation.py:2749: UserWarning: X does not have valid feature names, but LGBMRegressor was fitted with feature names\n",
      "  warnings.warn(\n"
     ]
    },
    {
     "name": "stdout",
     "output_type": "stream",
     "text": [
      "[LightGBM] [Info] Auto-choosing row-wise multi-threading, the overhead of testing was 0.001603 seconds.\n",
      "You can set `force_row_wise=true` to remove the overhead.\n",
      "And if memory is not enough, you can set `force_col_wise=true`.\n",
      "[LightGBM] [Info] Total Bins 658\n",
      "[LightGBM] [Info] Number of data points in the train set: 35840, number of used features: 32\n",
      "[LightGBM] [Info] Start training from score 2005.237807\n"
     ]
    },
    {
     "name": "stderr",
     "output_type": "stream",
     "text": [
      "/Users/inderchhetiya/Downloads/hackathon/RedBusHackathon2025/.venv/lib/python3.12/site-packages/sklearn/utils/validation.py:2749: UserWarning: X does not have valid feature names, but LGBMRegressor was fitted with feature names\n",
      "  warnings.warn(\n",
      "/Users/inderchhetiya/Downloads/hackathon/RedBusHackathon2025/.venv/lib/python3.12/site-packages/sklearn/utils/validation.py:2749: UserWarning: X does not have valid feature names, but LGBMRegressor was fitted with feature names\n",
      "  warnings.warn(\n",
      "/Users/inderchhetiya/Downloads/hackathon/RedBusHackathon2025/.venv/lib/python3.12/site-packages/sklearn/utils/validation.py:2749: UserWarning: X does not have valid feature names, but LGBMRegressor was fitted with feature names\n",
      "  warnings.warn(\n",
      "/Users/inderchhetiya/Downloads/hackathon/RedBusHackathon2025/.venv/lib/python3.12/site-packages/sklearn/utils/validation.py:2749: UserWarning: X does not have valid feature names, but LGBMRegressor was fitted with feature names\n",
      "  warnings.warn(\n",
      "/Users/inderchhetiya/Downloads/hackathon/RedBusHackathon2025/.venv/lib/python3.12/site-packages/sklearn/utils/validation.py:2749: UserWarning: X does not have valid feature names, but LGBMRegressor was fitted with feature names\n",
      "  warnings.warn(\n",
      "/Users/inderchhetiya/Downloads/hackathon/RedBusHackathon2025/.venv/lib/python3.12/site-packages/sklearn/utils/validation.py:2749: UserWarning: X does not have valid feature names, but LGBMRegressor was fitted with feature names\n",
      "  warnings.warn(\n",
      "/Users/inderchhetiya/Downloads/hackathon/RedBusHackathon2025/.venv/lib/python3.12/site-packages/sklearn/utils/validation.py:2749: UserWarning: X does not have valid feature names, but LGBMRegressor was fitted with feature names\n",
      "  warnings.warn(\n"
     ]
    },
    {
     "name": "stdout",
     "output_type": "stream",
     "text": [
      "[LightGBM] [Info] Auto-choosing row-wise multi-threading, the overhead of testing was 0.000239 seconds.\n",
      "You can set `force_row_wise=true` to remove the overhead.\n",
      "And if memory is not enough, you can set `force_col_wise=true`.\n",
      "[LightGBM] [Info] Total Bins 658\n",
      "[LightGBM] [Info] Number of data points in the train set: 53760, number of used features: 32\n",
      "[LightGBM] [Info] Start training from score 2003.632533\n",
      "✅ Best Parameters: {'regressor__learning_rate': 0.1, 'regressor__max_depth': 20, 'regressor__n_estimators': 200}\n",
      "📉 Validation RMSE: 287680.3864387683\n"
     ]
    },
    {
     "name": "stderr",
     "output_type": "stream",
     "text": [
      "/Users/inderchhetiya/Downloads/hackathon/RedBusHackathon2025/.venv/lib/python3.12/site-packages/sklearn/utils/validation.py:2749: UserWarning: X does not have valid feature names, but LGBMRegressor was fitted with feature names\n",
      "  warnings.warn(\n"
     ]
    }
   ],
   "source": [
    "import lightgbm as lgb\n",
    "from sklearn.model_selection import train_test_split, GridSearchCV\n",
    "from sklearn.pipeline import Pipeline\n",
    "from sklearn.compose import ColumnTransformer\n",
    "from sklearn.preprocessing import OneHotEncoder, StandardScaler\n",
    "from sklearn.metrics import mean_squared_error\n",
    "import pandas as pd\n",
    "import numpy as np\n",
    "\n",
    "# Drop missing values\n",
    "train_clean = train_enriched.dropna()\n",
    "\n",
    "# Separate features and target\n",
    "X = train_clean.drop(columns=[\"final_seatcount\"])\n",
    "y = train_clean[\"final_seatcount\"]\n",
    "\n",
    "# Train/validation split\n",
    "X_train, X_val, y_train, y_val = train_test_split(X, y, test_size=0.2, random_state=42)\n",
    "\n",
    "# Define feature types\n",
    "categorical_features = [\"srcid_region\", \"destid_region\", \"srcid_tier\", \"destid_tier\"]\n",
    "numerical_features = [\"srcid\", \"destid\", \"cumsum_seatcount_15\", \"cumsum_searchcount_15\"]\n",
    "\n",
    "# Preprocessing\n",
    "preprocessor = ColumnTransformer([\n",
    "    (\"num\", StandardScaler(), numerical_features),\n",
    "    (\"cat\", OneHotEncoder(handle_unknown=\"ignore\"), categorical_features)\n",
    "])\n",
    "\n",
    "# Define the pipeline\n",
    "pipeline = Pipeline([\n",
    "    (\"preprocessor\", preprocessor),\n",
    "    (\"regressor\", lgb.LGBMRegressor(objective=\"regression\", random_state=42))\n",
    "])\n",
    "\n",
    "# Define hyperparameter grid\n",
    "param_grid = {\n",
    "    \"regressor__n_estimators\": [100, 200],\n",
    "    \"regressor__learning_rate\": [0.05, 0.1],\n",
    "    \"regressor__max_depth\": [10, 20, -1]\n",
    "}\n",
    "\n",
    "# Grid search\n",
    "grid_search = GridSearchCV(\n",
    "    pipeline,\n",
    "    param_grid,\n",
    "    cv=3,\n",
    "    scoring=\"neg_root_mean_squared_error\",\n",
    "    verbose=1,\n",
    "    n_jobs=-1\n",
    ")\n",
    "\n",
    "# Fit model\n",
    "grid_search.fit(X_train, y_train)\n",
    "\n",
    "# Evaluate\n",
    "best_model = grid_search.best_estimator_\n",
    "y_pred = best_model.predict(X_val)\n",
    "rmse = mean_squared_error(y_val, y_pred)\n",
    "\n",
    "print(\"✅ Best Parameters:\", grid_search.best_params_)\n",
    "print(\"📉 Validation RMSE:\", rmse)\n"
   ]
  },
  {
   "cell_type": "code",
   "execution_count": 3,
   "id": "0c6a559f",
   "metadata": {},
   "outputs": [
    {
     "name": "stdout",
     "output_type": "stream",
     "text": [
      "✅ submission_file.csv saved!\n"
     ]
    },
    {
     "name": "stderr",
     "output_type": "stream",
     "text": [
      "/Users/inderchhetiya/Downloads/hackathon/RedBusHackathon2025/.venv/lib/python3.12/site-packages/sklearn/utils/validation.py:2749: UserWarning: X does not have valid feature names, but LGBMRegressor was fitted with feature names\n",
      "  warnings.warn(\n"
     ]
    }
   ],
   "source": [
    "# Drop any rows with missing values in test\n",
    "test_ready = test_enriched.dropna()\n",
    "\n",
    "# Predict using best model from GridSearchCV\n",
    "test_preds = best_model.predict(test_ready)\n",
    "\n",
    "# Build submission file\n",
    "submission = pd.DataFrame({\n",
    "    \"route_key\": test_ready[\"route_key\"],\n",
    "    \"final_seatcount\": test_preds.astype(int)  # rounding might help depending on leaderboard behavior\n",
    "})\n",
    "\n",
    "# Save to CSV\n",
    "submission.to_csv(\"submission_file_gpt.csv\", index=False)\n",
    "print(\"✅ submission_file.csv saved!\")\n"
   ]
  }
 ],
 "metadata": {
  "kernelspec": {
   "display_name": ".venv",
   "language": "python",
   "name": "python3"
  },
  "language_info": {
   "codemirror_mode": {
    "name": "ipython",
    "version": 3
   },
   "file_extension": ".py",
   "mimetype": "text/x-python",
   "name": "python",
   "nbconvert_exporter": "python",
   "pygments_lexer": "ipython3",
   "version": "3.12.6"
  }
 },
 "nbformat": 4,
 "nbformat_minor": 5
}
